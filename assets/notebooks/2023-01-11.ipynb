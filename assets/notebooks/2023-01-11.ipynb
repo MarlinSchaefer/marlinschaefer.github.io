{
 "cells": [
  {
   "cell_type": "markdown",
   "id": "d58a1fdd-caad-4dde-a9cd-6049cd8931b4",
   "metadata": {},
   "source": [
    "# ConfigReader\n",
    "Configuration files are an important part for many applications. One of the most common type of configuration files are `.ini` files. In Python the most common way of reading these files is the `configparser` module. However, it provides only very basic functionality and a lot of work is required on the side of the application. For instance, by default all values are read in as strings. To convert them to a native Python type, one of the methods `getint`, `getbool`, etc. have to be called. It also doesn't allow for any sub-sections in the file or for easy constant definitions.\n",
    "\n",
    "I started to work on an alternative in my [BnsLib](https://github.com/MarlinSchaefer/BnsLib/blob/master/src/BnsLib/utils/config.py). One of the core features of this implementation was the ability to dynamically infer the type of the variable and allow for safe function calls from the config file. However, the implementation was done from the bottom up and thus very error prone. Although I haven't really seen many bugs, a higher level implementation would be benefitial. Furthermore, having a full-fledged configuration file reader that also allows for sub-sections would have been nice.\n",
    "\n",
    "One Sunday I had a bit of time and so tried my hands on a better and standalone implementation. This blog describes the outcome and capabilities of the package. You can find and install it from [here](https://github.com/MarlinSchaefer/configreader).\n",
    "\n",
    "## Value Parsing\n",
    "I wanted to base my `ConfigReader` on the `ConfigParser` from the `configparser` module, to save me time writing my own file-interface and parser. This meant that I had to find a way to parse the raw strings into Python types. Since I also wanted basic function support this had to be done in a safe way, such that no code injection would be possible. While I cannot guarantee that I succeeded in my goal, I have taken a relatively conservative approach.\n",
    "\n",
    "Instead of writing the parsing from the bottom up as I had done for my [BnsLib](https://github.com/MarlinSchaefer/BnsLib/blob/master/src/BnsLib/utils/config.py), I decided to use the `ast` (abstract syntax tree) module. To get off the ground with that library (and in general), I can recommend [this video](https://www.youtube.com/watch?v=OjPT15y2EpE) from the great YouTube channel [mCoding](https://www.youtube.com/channel/UCaiL2GDNpLYH6Wokkk1VNcg). The most important part was to understand the structure of the `ast.parse` output, which produces nested objects with different attributes, from which Python objects can be constructed. For every basic Python-functionality there is a corresponding `ast`-object.\n",
    "\n",
    "This nested structure is called a tree and it can then be walked. The idea is to recursively convert the objects in this tree into Python code and call the correct parsing function on the individual pieces. The central code block of the object is the function"
   ]
  },
  {
   "cell_type": "code",
   "execution_count": 1,
   "id": "0e2de4db-1e9f-4c68-83ff-091e126ac8c3",
   "metadata": {},
   "outputs": [],
   "source": [
    "def parse_node(self, node):\n",
    "    cls_name = node.__class__.__name__\n",
    "    parse_name = f'parse_{cls_name}'\n",
    "    if hasattr(self, parse_name):\n",
    "        parse_func = getattr(self, parse_name)\n",
    "    else:\n",
    "        raise ValueError(f'Forbidden node: {cls_name}')\n",
    "    return parse_func(node)"
   ]
  },
  {
   "cell_type": "markdown",
   "id": "445331f7-868a-434a-adb7-274f37d97154",
   "metadata": {},
   "source": [
    "The different `ast` objects are called nodes in the code. To handle any node we just have to define a function called `parse_[Node-name]` in the object. If that function is not defined, an error will be raised. For instance, this blocks all strings including `import`, as no function `parse_Import` is defined.\n",
    "\n",
    "To allow calling pre-defined functions, the following function is used."
   ]
  },
  {
   "cell_type": "code",
   "execution_count": 2,
   "id": "1d351ec8-5173-4db3-8f5d-512d9c91a530",
   "metadata": {},
   "outputs": [],
   "source": [
    "def parse_Call(self, node):\n",
    "    funcname = node.func.id\n",
    "    if funcname not in self.functions:\n",
    "        raise ValueError(f'Unknown function {funcname}')\n",
    "    args = [self.parse_node(arg) for arg in node.args]\n",
    "    kwargs = {kwarg.arg: self.parse_node(kwarg.value)\n",
    "              for kwarg in node.keywords}\n",
    "    return self.functions[funcname](*args, **kwargs)"
   ]
  },
  {
   "cell_type": "markdown",
   "id": "7743f2dc-47be-4883-9826-c38eecab55db",
   "metadata": {},
   "source": [
    "The `node.func.id` contains the name of the function. This structure also only allows to call functions which have been added to the `self.functions` dictionary. The arguments and keyword-arguments are then recursively passed to the `parse_node` function, so resolve them to a Python object. All arguments and function outputs have to be reduced to a Python expression at some point. Usually the base for this are constants, i.e. the `parse_Constant` function is usually the base primitive that is called."
   ]
  },
  {
   "cell_type": "code",
   "execution_count": 3,
   "id": "938b692d-de3e-4877-99b4-6503d0d410ca",
   "metadata": {},
   "outputs": [],
   "source": [
    "def parse_Constant(self, node):\n",
    "    val = node.value\n",
    "    if isinstance(val, str) and val in self.constants:\n",
    "        val = self.constants[val]\n",
    "    return val"
   ]
  },
  {
   "cell_type": "markdown",
   "id": "fe3b7615-df73-44e9-a69f-9e7b60266a47",
   "metadata": {},
   "source": [
    "It checks if the value of the constant is known in the `constants` dictionary. If not, it will just return the value of the constant. This may be a string, or a boolean, or an int, or ... The object all these functions are defined in is called an `ExpressionString`. To use it, one can simply do"
   ]
  },
  {
   "cell_type": "code",
   "execution_count": 5,
   "id": "5f76326c-4cb2-4941-8f92-b802e5af5bf1",
   "metadata": {},
   "outputs": [
    {
     "name": "stdout",
     "output_type": "stream",
     "text": [
      "2\n",
      "1.2246467991473532e-16\n"
     ]
    }
   ],
   "source": [
    "from configreader import ExpressionString\n",
    "es = ExpressionString()\n",
    "print(es.parse('1+1'))\n",
    "print(es.parse('sin(pi)'))"
   ]
  },
  {
   "cell_type": "markdown",
   "id": "c8b83445-cc22-4304-b198-72650e8a3f53",
   "metadata": {},
   "source": [
    "A few functions and constants are pre-defined. These include `sin`, `cos`, `tan`, and `pi`. However, if a unknown function is called, the parsing will error out."
   ]
  },
  {
   "cell_type": "code",
   "execution_count": 6,
   "id": "b2511401-13f3-44a5-9c0a-d77fc9f61f20",
   "metadata": {},
   "outputs": [
    {
     "ename": "ValueError",
     "evalue": "Unknown function round",
     "output_type": "error",
     "traceback": [
      "\u001b[0;31m---------------------------------------------------------------------------\u001b[0m",
      "\u001b[0;31mValueError\u001b[0m                                Traceback (most recent call last)",
      "Input \u001b[0;32mIn [6]\u001b[0m, in \u001b[0;36m<module>\u001b[0;34m\u001b[0m\n\u001b[0;32m----> 1\u001b[0m \u001b[43mes\u001b[49m\u001b[38;5;241;43m.\u001b[39;49m\u001b[43mparse\u001b[49m\u001b[43m(\u001b[49m\u001b[38;5;124;43m'\u001b[39;49m\u001b[38;5;124;43mround(0.3)\u001b[39;49m\u001b[38;5;124;43m'\u001b[39;49m\u001b[43m)\u001b[49m\n",
      "File \u001b[0;32m~/Documents/ConfigReader/src/configreader/core.py:191\u001b[0m, in \u001b[0;36mExpressionString.parse\u001b[0;34m(self, string)\u001b[0m\n\u001b[1;32m    189\u001b[0m \u001b[38;5;28;01mdef\u001b[39;00m \u001b[38;5;21mparse\u001b[39m(\u001b[38;5;28mself\u001b[39m, string):\n\u001b[1;32m    190\u001b[0m     tree \u001b[38;5;241m=\u001b[39m ast\u001b[38;5;241m.\u001b[39mparse(string)\n\u001b[0;32m--> 191\u001b[0m     \u001b[38;5;28;01mreturn\u001b[39;00m \u001b[38;5;28;43mself\u001b[39;49m\u001b[38;5;241;43m.\u001b[39;49m\u001b[43mparse_node\u001b[49m\u001b[43m(\u001b[49m\u001b[43mtree\u001b[49m\u001b[43m)\u001b[49m\n",
      "File \u001b[0;32m~/Documents/ConfigReader/src/configreader/core.py:187\u001b[0m, in \u001b[0;36mExpressionString.parse_node\u001b[0;34m(self, node)\u001b[0m\n\u001b[1;32m    185\u001b[0m \u001b[38;5;28;01melse\u001b[39;00m:\n\u001b[1;32m    186\u001b[0m     \u001b[38;5;28;01mraise\u001b[39;00m \u001b[38;5;167;01mValueError\u001b[39;00m(\u001b[38;5;124mf\u001b[39m\u001b[38;5;124m'\u001b[39m\u001b[38;5;124mForbidden node: \u001b[39m\u001b[38;5;132;01m{\u001b[39;00mcls_name\u001b[38;5;132;01m}\u001b[39;00m\u001b[38;5;124m'\u001b[39m)\n\u001b[0;32m--> 187\u001b[0m \u001b[38;5;28;01mreturn\u001b[39;00m \u001b[43mparse_func\u001b[49m\u001b[43m(\u001b[49m\u001b[43mnode\u001b[49m\u001b[43m)\u001b[49m\n",
      "File \u001b[0;32m~/Documents/ConfigReader/src/configreader/core.py:173\u001b[0m, in \u001b[0;36mExpressionString.parse_Module\u001b[0;34m(self, node)\u001b[0m\n\u001b[1;32m    171\u001b[0m values \u001b[38;5;241m=\u001b[39m node\u001b[38;5;241m.\u001b[39mbody\n\u001b[1;32m    172\u001b[0m \u001b[38;5;28;01mif\u001b[39;00m \u001b[38;5;28mlen\u001b[39m(values) \u001b[38;5;241m==\u001b[39m \u001b[38;5;241m1\u001b[39m:\n\u001b[0;32m--> 173\u001b[0m     \u001b[38;5;28;01mreturn\u001b[39;00m \u001b[38;5;28;43mself\u001b[39;49m\u001b[38;5;241;43m.\u001b[39;49m\u001b[43mparse_node\u001b[49m\u001b[43m(\u001b[49m\u001b[43mvalues\u001b[49m\u001b[43m[\u001b[49m\u001b[38;5;241;43m0\u001b[39;49m\u001b[43m]\u001b[49m\u001b[43m)\u001b[49m\n\u001b[1;32m    174\u001b[0m \u001b[38;5;28;01melse\u001b[39;00m:\n\u001b[1;32m    175\u001b[0m     \u001b[38;5;28;01mreturn\u001b[39;00m [\u001b[38;5;28mself\u001b[39m\u001b[38;5;241m.\u001b[39mparse_node(n) \u001b[38;5;28;01mfor\u001b[39;00m n \u001b[38;5;129;01min\u001b[39;00m values]\n",
      "File \u001b[0;32m~/Documents/ConfigReader/src/configreader/core.py:187\u001b[0m, in \u001b[0;36mExpressionString.parse_node\u001b[0;34m(self, node)\u001b[0m\n\u001b[1;32m    185\u001b[0m \u001b[38;5;28;01melse\u001b[39;00m:\n\u001b[1;32m    186\u001b[0m     \u001b[38;5;28;01mraise\u001b[39;00m \u001b[38;5;167;01mValueError\u001b[39;00m(\u001b[38;5;124mf\u001b[39m\u001b[38;5;124m'\u001b[39m\u001b[38;5;124mForbidden node: \u001b[39m\u001b[38;5;132;01m{\u001b[39;00mcls_name\u001b[38;5;132;01m}\u001b[39;00m\u001b[38;5;124m'\u001b[39m)\n\u001b[0;32m--> 187\u001b[0m \u001b[38;5;28;01mreturn\u001b[39;00m \u001b[43mparse_func\u001b[49m\u001b[43m(\u001b[49m\u001b[43mnode\u001b[49m\u001b[43m)\u001b[49m\n",
      "File \u001b[0;32m~/Documents/ConfigReader/src/configreader/core.py:178\u001b[0m, in \u001b[0;36mExpressionString.parse_Expr\u001b[0;34m(self, node)\u001b[0m\n\u001b[1;32m    177\u001b[0m \u001b[38;5;28;01mdef\u001b[39;00m \u001b[38;5;21mparse_Expr\u001b[39m(\u001b[38;5;28mself\u001b[39m, node):\n\u001b[0;32m--> 178\u001b[0m     \u001b[38;5;28;01mreturn\u001b[39;00m \u001b[38;5;28;43mself\u001b[39;49m\u001b[38;5;241;43m.\u001b[39;49m\u001b[43mparse_node\u001b[49m\u001b[43m(\u001b[49m\u001b[43mnode\u001b[49m\u001b[38;5;241;43m.\u001b[39;49m\u001b[43mvalue\u001b[49m\u001b[43m)\u001b[49m\n",
      "File \u001b[0;32m~/Documents/ConfigReader/src/configreader/core.py:187\u001b[0m, in \u001b[0;36mExpressionString.parse_node\u001b[0;34m(self, node)\u001b[0m\n\u001b[1;32m    185\u001b[0m \u001b[38;5;28;01melse\u001b[39;00m:\n\u001b[1;32m    186\u001b[0m     \u001b[38;5;28;01mraise\u001b[39;00m \u001b[38;5;167;01mValueError\u001b[39;00m(\u001b[38;5;124mf\u001b[39m\u001b[38;5;124m'\u001b[39m\u001b[38;5;124mForbidden node: \u001b[39m\u001b[38;5;132;01m{\u001b[39;00mcls_name\u001b[38;5;132;01m}\u001b[39;00m\u001b[38;5;124m'\u001b[39m)\n\u001b[0;32m--> 187\u001b[0m \u001b[38;5;28;01mreturn\u001b[39;00m \u001b[43mparse_func\u001b[49m\u001b[43m(\u001b[49m\u001b[43mnode\u001b[49m\u001b[43m)\u001b[49m\n",
      "File \u001b[0;32m~/Documents/ConfigReader/src/configreader/core.py:38\u001b[0m, in \u001b[0;36mExpressionString.parse_Call\u001b[0;34m(self, node)\u001b[0m\n\u001b[1;32m     36\u001b[0m funcname \u001b[38;5;241m=\u001b[39m node\u001b[38;5;241m.\u001b[39mfunc\u001b[38;5;241m.\u001b[39mid\n\u001b[1;32m     37\u001b[0m \u001b[38;5;28;01mif\u001b[39;00m funcname \u001b[38;5;129;01mnot\u001b[39;00m \u001b[38;5;129;01min\u001b[39;00m \u001b[38;5;28mself\u001b[39m\u001b[38;5;241m.\u001b[39mfunctions:\n\u001b[0;32m---> 38\u001b[0m     \u001b[38;5;28;01mraise\u001b[39;00m \u001b[38;5;167;01mValueError\u001b[39;00m(\u001b[38;5;124mf\u001b[39m\u001b[38;5;124m'\u001b[39m\u001b[38;5;124mUnknown function \u001b[39m\u001b[38;5;132;01m{\u001b[39;00mfuncname\u001b[38;5;132;01m}\u001b[39;00m\u001b[38;5;124m'\u001b[39m)\n\u001b[1;32m     39\u001b[0m args \u001b[38;5;241m=\u001b[39m [\u001b[38;5;28mself\u001b[39m\u001b[38;5;241m.\u001b[39mparse_node(arg) \u001b[38;5;28;01mfor\u001b[39;00m arg \u001b[38;5;129;01min\u001b[39;00m node\u001b[38;5;241m.\u001b[39margs]\n\u001b[1;32m     40\u001b[0m kwargs \u001b[38;5;241m=\u001b[39m {kwarg\u001b[38;5;241m.\u001b[39marg: \u001b[38;5;28mself\u001b[39m\u001b[38;5;241m.\u001b[39mparse_node(kwarg\u001b[38;5;241m.\u001b[39mvalue)\n\u001b[1;32m     41\u001b[0m           \u001b[38;5;28;01mfor\u001b[39;00m kwarg \u001b[38;5;129;01min\u001b[39;00m node\u001b[38;5;241m.\u001b[39mkeywords}\n",
      "\u001b[0;31mValueError\u001b[0m: Unknown function round"
     ]
    }
   ],
   "source": [
    "es.parse('round(0.3)')"
   ]
  },
  {
   "cell_type": "markdown",
   "id": "2b655924-6f9a-45b7-a5bc-92363ab7b30d",
   "metadata": {},
   "source": [
    "If your application requires this specific function, it can easily be added to the ExpressionString."
   ]
  },
  {
   "cell_type": "code",
   "execution_count": 8,
   "id": "e16c0a2e-513a-49a0-9ce2-8d52e8aa11cd",
   "metadata": {},
   "outputs": [
    {
     "name": "stdout",
     "output_type": "stream",
     "text": [
      "0\n"
     ]
    }
   ],
   "source": [
    "es.register_function(round)\n",
    "print(es.parse('round(0.3)'))"
   ]
  },
  {
   "cell_type": "markdown",
   "id": "2968f4d2-1a66-4d4e-a5a0-60e8db55ec02",
   "metadata": {},
   "source": [
    "The function name is automatically identified. However, if a different function name should be used when parsing, this is also possible."
   ]
  },
  {
   "cell_type": "code",
   "execution_count": 11,
   "id": "c2931d4a-4a6c-4483-907f-e6799df651b6",
   "metadata": {},
   "outputs": [
    {
     "name": "stdout",
     "output_type": "stream",
     "text": [
      "myfoo\n",
      "foobar\n"
     ]
    }
   ],
   "source": [
    "def foo_the_bar(inputstring):\n",
    "    if inputstring == 'foo':\n",
    "        return 'foobar'\n",
    "    return inputstring\n",
    "es.register_function(foo_the_bar, name='bar')\n",
    "print(es.parse('bar(\"myfoo\")'))\n",
    "print(es.parse('bar(\"foo\")'))"
   ]
  },
  {
   "cell_type": "markdown",
   "id": "ceda2744-2d62-444a-9d9b-47993ceb124e",
   "metadata": {},
   "source": [
    "Note that the quotation marks are important. This is the only downside to this approach of parsing the strings. Constants can be registered just as easily using the `register_constant` function.\n",
    "\n",
    "## Config-File sectioning\n",
    "One other crucial design goal, that I haven't tackled before, is the inclusion of sub-sections. Many implementations use multiple sets of square brackets to indicate subsections. However, these sub-sections have to be in order. I wanted to also lift this restriction. Therefore, I opted for a file-system-like structure, that uses a separator to indicate sub-sections. The files will be of the following structure:\n",
    "\n",
    "```\n",
    "[Section 1]\n",
    "name1 = value1\n",
    "\n",
    "[Section 1/Subsection 1.1]\n",
    "name1.1 = value1.1\n",
    "\n",
    "[Section 2]\n",
    "name2 = value2\n",
    "\n",
    "[/Subsection 2.1]\n",
    "name2.1 = value2.1\n",
    "\n",
    "[//Sub-Subsection 2.1.1]\n",
    "name2.1.1 = value2.1.1\n",
    "```\n",
    "\n",
    "The parent-section can be omitted and replaced by placing the separator in front when sections are ordered in the file. The number of separators specifies the level of sub-sections.\n",
    "\n",
    "## Retrieving values\n",
    "There are multiple ways of retrieving a value from the configuration file. For this section consider the following configuration file:"
   ]
  },
  {
   "cell_type": "code",
   "execution_count": 20,
   "id": "2e60141f-85ad-47c4-8ab4-a94f29538bb4",
   "metadata": {},
   "outputs": [
    {
     "name": "stdout",
     "output_type": "stream",
     "text": [
      "toplevel/\n",
      " ├─Constants/\n",
      " │  └─c = 300000000\n",
      " ├─detectors/\n",
      " │  ├─det1/\n",
      " │  │  └─height = 1.5\n",
      " │  ├─det2/\n",
      " │  │  └─height = 2\n",
      " │  └─width = 2\n",
      " └─Sampler/\n",
      "    ├─parameter1/\n",
      "    │  ├─min = 0\n",
      "    │  └─max = 0.7071067811865475\n",
      "    ├─parameter2/\n",
      "    │  ├─min = -1\n",
      "    │  ├─max = 150000000.0\n",
      "    │  └─param2_desc = This is the second parameter\n",
      "    ├─sampler_name = custom\n",
      "    └─parameter1 = 2\n"
     ]
    }
   ],
   "source": [
    "from configreader import ConfigReader\n",
    "\n",
    "config_source = \"\"\"\n",
    "[Constants]\n",
    "c = 3 * 10 ** 8\n",
    "\n",
    "[detectors]\n",
    "width = 2\n",
    "[/det1]\n",
    "height = 1.5\n",
    "\n",
    "[/det2]\n",
    "height = 2\n",
    "\n",
    "[Sampler]\n",
    "sampler_name = custom\n",
    "parameter1 = 2\n",
    "[/parameter1]\n",
    "min = 0\n",
    "max = sin(pi / 4)\n",
    "\n",
    "[/parameter2]\n",
    "min = -1\n",
    "max = c / 2\n",
    "param2_desc = \"This is the second parameter\"\n",
    "\"\"\"\n",
    "\n",
    "config = ConfigReader(config_source)\n",
    "print(config)"
   ]
  },
  {
   "cell_type": "markdown",
   "id": "4ec66f3f-143d-48ec-9eab-230f3224661e",
   "metadata": {},
   "source": [
    "The safest way is to use the full path to a value."
   ]
  },
  {
   "cell_type": "code",
   "execution_count": 13,
   "id": "a2d26e22-0577-46a1-8968-debe22bd1661",
   "metadata": {},
   "outputs": [
    {
     "data": {
      "text/plain": [
       "1.5"
      ]
     },
     "execution_count": 13,
     "metadata": {},
     "output_type": "execute_result"
    }
   ],
   "source": [
    "config['detectors/det1/height']"
   ]
  },
  {
   "cell_type": "markdown",
   "id": "6166119a-c782-4f62-bde2-de27ac1fcf04",
   "metadata": {},
   "source": [
    "You can also try using a dictionary-style access."
   ]
  },
  {
   "cell_type": "code",
   "execution_count": 14,
   "id": "4d50c8ad-8c0c-433f-a480-26d04c57ba92",
   "metadata": {},
   "outputs": [
    {
     "data": {
      "text/plain": [
       "1.5"
      ]
     },
     "execution_count": 14,
     "metadata": {},
     "output_type": "execute_result"
    }
   ],
   "source": [
    "config['detectors']['det1']['height']"
   ]
  },
  {
   "cell_type": "markdown",
   "id": "c9f8406c-6235-4f42-a788-ec109f66c84b",
   "metadata": {},
   "source": [
    "However, if one key is not unqiue, it can lead to unexpected errors."
   ]
  },
  {
   "cell_type": "code",
   "execution_count": 16,
   "id": "61518bd6-9b49-47c1-859e-7f3767045da4",
   "metadata": {},
   "outputs": [
    {
     "ename": "NonUniqueKeyError",
     "evalue": "\"Found multiple values: [2, <configreader.core.Section object at 0x7f0a886d5af0>] and sections: ['toplevel/Sampler/parameter1']\"",
     "output_type": "error",
     "traceback": [
      "\u001b[0;31m---------------------------------------------------------------------------\u001b[0m",
      "\u001b[0;31mNonUniqueKeyError\u001b[0m                         Traceback (most recent call last)",
      "Input \u001b[0;32mIn [16]\u001b[0m, in \u001b[0;36m<module>\u001b[0;34m\u001b[0m\n\u001b[0;32m----> 1\u001b[0m \u001b[43mconfig\u001b[49m\u001b[43m[\u001b[49m\u001b[38;5;124;43m'\u001b[39;49m\u001b[38;5;124;43mSampler\u001b[39;49m\u001b[38;5;124;43m'\u001b[39;49m\u001b[43m]\u001b[49m\u001b[43m[\u001b[49m\u001b[38;5;124;43m'\u001b[39;49m\u001b[38;5;124;43mparameter1\u001b[39;49m\u001b[38;5;124;43m'\u001b[39;49m\u001b[43m]\u001b[49m\n",
      "File \u001b[0;32m~/Documents/ConfigReader/src/configreader/core.py:722\u001b[0m, in \u001b[0;36mSection.__getitem__\u001b[0;34m(self, key)\u001b[0m\n\u001b[1;32m    721\u001b[0m \u001b[38;5;28;01mdef\u001b[39;00m \u001b[38;5;21m__getitem__\u001b[39m(\u001b[38;5;28mself\u001b[39m, key):\n\u001b[0;32m--> 722\u001b[0m     \u001b[38;5;28;01mreturn\u001b[39;00m \u001b[38;5;28;43mself\u001b[39;49m\u001b[38;5;241;43m.\u001b[39;49m\u001b[43mget\u001b[49m\u001b[43m(\u001b[49m\u001b[43mkey\u001b[49m\u001b[43m)\u001b[49m\n",
      "File \u001b[0;32m~/Documents/ConfigReader/src/configreader/core.py:759\u001b[0m, in \u001b[0;36mSection.get\u001b[0;34m(self, key)\u001b[0m\n\u001b[1;32m    757\u001b[0m \u001b[38;5;28;01mif\u001b[39;00m \u001b[38;5;28mlen\u001b[39m(direct_children) \u001b[38;5;241m>\u001b[39m \u001b[38;5;241m1\u001b[39m \u001b[38;5;129;01mor\u001b[39;00m \u001b[38;5;28mlen\u001b[39m(direct_children) \u001b[38;5;241m==\u001b[39m \u001b[38;5;241m0\u001b[39m:\n\u001b[1;32m    758\u001b[0m     err_sec \u001b[38;5;241m=\u001b[39m [sec\u001b[38;5;241m.\u001b[39mfull_path \u001b[38;5;28;01mfor\u001b[39;00m sec \u001b[38;5;129;01min\u001b[39;00m secs]\n\u001b[0;32m--> 759\u001b[0m     \u001b[38;5;28;01mraise\u001b[39;00m NonUniqueKeyError(\u001b[38;5;124m'\u001b[39m\u001b[38;5;124mFound multiple values: \u001b[39m\u001b[38;5;124m'\u001b[39m\n\u001b[1;32m    760\u001b[0m                             \u001b[38;5;124mf\u001b[39m\u001b[38;5;124m'\u001b[39m\u001b[38;5;132;01m{\u001b[39;00m\u001b[38;5;28mlist\u001b[39m(vals\u001b[38;5;241m.\u001b[39mvalues())\u001b[38;5;132;01m}\u001b[39;00m\u001b[38;5;124m and \u001b[39m\u001b[38;5;124m'\u001b[39m\n\u001b[1;32m    761\u001b[0m                             \u001b[38;5;124m'\u001b[39m\u001b[38;5;124msections: \u001b[39m\u001b[38;5;124m'\u001b[39m\n\u001b[1;32m    762\u001b[0m                             \u001b[38;5;124mf\u001b[39m\u001b[38;5;124m'\u001b[39m\u001b[38;5;132;01m{\u001b[39;00merr_sec\u001b[38;5;132;01m}\u001b[39;00m\u001b[38;5;124m'\u001b[39m)\n\u001b[1;32m    763\u001b[0m \u001b[38;5;28;01melse\u001b[39;00m:\n\u001b[1;32m    764\u001b[0m     vals \u001b[38;5;241m=\u001b[39m direct_children\n",
      "\u001b[0;31mNonUniqueKeyError\u001b[0m: \"Found multiple values: [2, <configreader.core.Section object at 0x7f0a886d5af0>] and sections: ['toplevel/Sampler/parameter1']\""
     ]
    }
   ],
   "source": [
    "config['Sampler']['parameter1']"
   ]
  },
  {
   "cell_type": "markdown",
   "id": "a580c1ba-8a20-4904-913a-c158245aaf2e",
   "metadata": {},
   "source": [
    "In this case using the full path still yields an expected result."
   ]
  },
  {
   "cell_type": "code",
   "execution_count": 17,
   "id": "85815f29-7d14-4cb2-8e6e-dfdd71fe0c04",
   "metadata": {},
   "outputs": [
    {
     "data": {
      "text/plain": [
       "2"
      ]
     },
     "execution_count": 17,
     "metadata": {},
     "output_type": "execute_result"
    }
   ],
   "source": [
    "config['Sampler/parameter1']"
   ]
  },
  {
   "cell_type": "markdown",
   "id": "77f660ba-600a-4719-a78c-d8e3ff795805",
   "metadata": {},
   "source": [
    "To access the subsection instead, you can end the path with the separator."
   ]
  },
  {
   "cell_type": "code",
   "execution_count": 18,
   "id": "f0bc8e2e-8544-4a9f-8dfe-0cfb8866427b",
   "metadata": {},
   "outputs": [
    {
     "name": "stdout",
     "output_type": "stream",
     "text": [
      "parameter1/\n",
      " ├─min = 0\n",
      " └─max = 0.7071067811865475\n"
     ]
    }
   ],
   "source": [
    "print(config['Sampler/parameter1/'])"
   ]
  },
  {
   "cell_type": "markdown",
   "id": "3ea9cecb-9ab5-485a-976d-00835ab1e745",
   "metadata": {},
   "source": [
    "The final way to access a value is by a unique name. If a key is unique it can be used without specifying the sub-sections."
   ]
  },
  {
   "cell_type": "code",
   "execution_count": 21,
   "id": "2668a28f-0abf-4480-b31c-63c8315d7230",
   "metadata": {},
   "outputs": [
    {
     "name": "stdout",
     "output_type": "stream",
     "text": [
      "2\n",
      "This is the second parameter\n"
     ]
    }
   ],
   "source": [
    "print(config['width'])\n",
    "print(config['param2_desc'])"
   ]
  }
 ],
 "metadata": {
  "kernelspec": {
   "display_name": "Python 3 (ipykernel)",
   "language": "python",
   "name": "python3"
  },
  "language_info": {
   "codemirror_mode": {
    "name": "ipython",
    "version": 3
   },
   "file_extension": ".py",
   "mimetype": "text/x-python",
   "name": "python",
   "nbconvert_exporter": "python",
   "pygments_lexer": "ipython3",
   "version": "3.8.10"
  }
 },
 "nbformat": 4,
 "nbformat_minor": 5
}
