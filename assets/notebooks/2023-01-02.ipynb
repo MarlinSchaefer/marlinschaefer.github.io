{
 "cells": [
  {
   "cell_type": "markdown",
   "id": "e351c9e5-7139-4dd1-8185-188b9b610a92",
   "metadata": {
    "tags": []
   },
   "source": [
    "# Using Ruby\n",
    "After more than one year I finally got back to this website. The main problem I ran into: I switched the machine on which I'm working. This caused issues, as my original software stack was no longer with me and I needed to re-install jekyll.\n",
    "Now initially one would think this would be simple. Head to the [jekyll website](https://jekyllrb.com/) and use their install instructions.\n",
    "1. `gem install bundler jekyll`\n",
    "1. Two Change into the website directory.\n",
    "1. Three Run `bundle exec jekyll serve`\n",
    "\n",
    "Well, this turned out to be problematic at step 1 already. I ran into many version conflicts and trying to resolve them proved difficult.\n",
    "The main problem was the installed version of Ruby. Now, I have no experience with Ruby and I only need it to run jekyll for development purposes of my website. For that reason I had no idea how Ruby versions are usually handled. After trying the usual `sudo apt update` followed by `sudo apt install ruby`, I checked which version of Ruby is currently in use. Turns out, we are at version 3.2 already and Ubuntu packages version 2.5 from almost three years ago. I guess they update those about as often as I update my website.\n",
    "\n",
    "So how do you install a newer version? Well, it turns out that there is a really nice version manager called rbenv, which you can find [here](https://github.com/rbenv/rbenv). The installation is really simple. Just run\n",
    "1. `git clone https://github.com/rbenv/rbenv.git ~/.rbenv`\n",
    "1. `echo 'eval \"$(~/.rbenv/bin/rbenv init - bash)\"' >> ~/.bashrc` \n",
    "1. `source ~/.bashrc`\n",
    "1. `apt-get install autoconf bison patch build-essential rustc libssl-dev libyaml-dev libreadline6-dev zlib1g-dev libgmp-dev libncurses5-dev libffi-dev libgdbm5 libgdbm-dev libdb-dev uuid-dev`\n",
    "1. `git clone https://github.com/rbenv/ruby-build.git \"(rbenv root)\"/plugins/ruby-build` (there needs to be a dollar-sign in front of (rbenv root), which for some reason tries to expand the content between the two dollar signs into a math expression)\n",
    "1. `rbenv install -l`\n",
    "1. Choose a version and run `rbenv install <version>`\n",
    "\n",
    "Afterward, I changed into the website directory, executed the jekyll install instructions, and, ..., ran into more errors. First, the Ruby gems were not of the correct version. Therefore, I had to run `bundle install`. Easy enough. But after that step completed successfully, I had another issue. Luckily, someone else had come upon the same issue [here](https://github.com/Shopify/liquid/issues/1625) and there was already a fix available. So I had to upgrade my Ruby gems using `bundle update`. After another version clash and choosing an older version of Ruby (which by now was pretty simple due to rbenv) I could finally run my jekyll development environment. This is why you can find this post."
   ]
  }
 ],
 "metadata": {
  "kernelspec": {
   "display_name": "Python 3",
   "language": "python",
   "name": "python3"
  },
  "language_info": {
   "codemirror_mode": {
    "name": "ipython",
    "version": 3
   },
   "file_extension": ".py",
   "mimetype": "text/x-python",
   "name": "python",
   "nbconvert_exporter": "python",
   "pygments_lexer": "ipython3",
   "version": "3.6.9"
  }
 },
 "nbformat": 4,
 "nbformat_minor": 5
}
